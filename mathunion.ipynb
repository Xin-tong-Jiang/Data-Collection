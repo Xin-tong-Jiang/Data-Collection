{
 "cells": [
  {
   "cell_type": "markdown",
   "metadata": {},
   "source": [
    "#### mathunion"
   ]
  },
  {
   "cell_type": "code",
   "execution_count": null,
   "metadata": {},
   "outputs": [],
   "source": [
    "import os\n",
    "import re\n",
    "import time\n",
    "import random\n",
    "import numpy as np\n",
    "import pandas as pd\n",
    "import requests\n",
    "import bs4\n",
    "from bs4 import BeautifulSoup"
   ]
  },
  {
   "cell_type": "code",
   "execution_count": null,
   "metadata": {},
   "outputs": [
    {
     "name": "stderr",
     "output_type": "stream",
     "text": [
      "D:\\miniconda3\\envs\\pytorch\\lib\\site-packages\\urllib3\\connectionpool.py:1052: InsecureRequestWarning: Unverified HTTPS request is being made to host 'www.mathunion.org'. Adding certificate verification is strongly advised. See: https://urllib3.readthedocs.io/en/1.26.x/advanced-usage.html#ssl-warnings\n",
      "  InsecureRequestWarning,\n"
     ]
    },
    {
     "name": "stdout",
     "output_type": "stream",
     "text": [
      "['2022', 'Hugo Duminil-Copin', 'https://www.ihes.fr/~duminil/']\n",
      "['2022', 'June Huh', 'https://web.math.princeton.edu/~huh/']\n",
      "['2022', 'James Maynard', 'https://www.maths.ox.ac.uk/people/james.maynard']\n",
      "['2022', 'Maryna Viazovska', 'https://people.epfl.ch/maryna.viazovska?lang=en']\n",
      "['2018', 'Caucher Birkar', 'https://www.dpmms.cam.ac.uk/~cb496/']\n",
      "['2018', 'Alessio Figalli', 'https://people.math.ethz.ch/~afigalli/']\n",
      "['2018', 'Peter Scholze', 'http://www.hcm.uni-bonn.de/de/people/profile/peter-scholze/']\n",
      "['2018', 'Akshay Venkatesh', 'https://www.ias.edu/math/people/faculty/venkatesh']\n",
      "['2014', 'Artur Avila ', 'http://w3.impa.br/~avila/']\n",
      "['2014', 'Manjul Bhargava', 'https://www.math.princeton.edu/directory/manjul-bhargava']\n",
      "['2014', 'Martin Hairer', 'http://www.hairer.org/']\n",
      "['2014', 'Maryam Mirzakhani', 'http://en.wikipedia.org/wiki/Maryam_Mirzakhani']\n",
      "['2010', 'Elon Lindenstrauss', 'http://www.ma.huji.ac.il/~elon/index.html']\n",
      "['2010', 'Ngô Bào Châu', 'http://www.math.uchicago.edu/~ngo/nbc-homepage']\n",
      "['2010', 'Stanislav Smirnov', 'http://www.unige.ch/~smirnov/']\n",
      "['2010', 'Cédric Villani', 'http://math.univ-lyon1.fr/homes-www/villani/']\n",
      "['2006', 'Andrei Okounkov   ', 'http://math.berkeley.edu/~okounkov/']\n",
      "['2006', 'Grigori Perelman*', 'https://en.wikipedia.org/wiki/Grigori_Perelman']\n",
      "['2006', 'Terence Tao', 'http://www.math.ucla.edu/~tao/']\n",
      "['2006', 'Wendelin Werner', 'https://people.math.ethz.ch/~wewerner/']\n",
      "['2002', 'Laurent Lafforgue ', 'https://www.mathunion.org/imu-awards/fields-medal/fields-medals-2002']\n",
      "['2002', 'Vladimir Voevodsky', 'https://www.mathunion.org/imu-awards/fields-medal/fields-medals-2002']\n",
      "['1998', 'Richard E. Borcherds ', 'https://www.mathunion.org/imu-awards/fields-medal/fields-medals-1998']\n",
      "['1998', 'W. Timothy Gowers', 'https://www.mathunion.org/imu-awards/fields-medal/fields-medals-1998']\n",
      "['1998', 'Maxim Kontsevich', 'https://www.mathunion.org/imu-awards/fields-medal/fields-medals-1998']\n",
      "['1998', 'Curtis T. Mcmullen', 'https://www.mathunion.org/imu-awards/fields-medal/fields-medals-1998']\n",
      "['1994', 'Jean Bourgain', 'https://www.mathunion.org/imu-awards/fields-medal/fields-medals-1994']\n",
      "['1994', 'Pierre-Louis Lions', 'https://www.mathunion.org/imu-awards/fields-medal/fields-medals-1994']\n",
      "['1994', 'Jean-Christophe Yoccoz', 'https://www.mathunion.org/imu-awards/fields-medal/fields-medals-1994']\n",
      "['1994', 'Efim Zelmanov', 'https://www.mathunion.org/imu-awards/fields-medal/fields-medals-1994']\n",
      "['1990', 'Vladimir Drinfeld', 'https://www.mathunion.org/imu-awards/fields-medal/fields-medals-1990']\n",
      "['1990', 'Vaughan F.R. Jones', 'https://www.mathunion.org/imu-awards/fields-medal/fields-medals-1990']\n",
      "['1990', 'Shigefumi Mori', 'https://www.mathunion.org/imu-awards/fields-medal/fields-medals-1990']\n",
      "['1990', 'Edward Witten', 'https://www.mathunion.org/imu-awards/fields-medal/fields-medals-1990']\n",
      "['1986', 'Simon K. Donaldson', 'https://www.mathunion.org/imu-awards/fields-medal/fields-medals-1986']\n",
      "['1986', 'Gerd Faltings', 'https://www.mathunion.org/imu-awards/fields-medal/fields-medals-1986']\n",
      "['1986', 'Michael H. Freedman', 'https://www.mathunion.org/imu-awards/fields-medal/fields-medals-1986']\n",
      "['1982', 'Alain Connes', 'https://www.mathunion.org/imu-awards/fields-medal/fields-medals-1982']\n",
      "['1982', 'William P. Thurston', 'https://www.mathunion.org/imu-awards/fields-medal/fields-medals-1982']\n",
      "['1982', 'Shing-Tung Yau', 'https://www.mathunion.org/imu-awards/fields-medal/fields-medals-1982']\n",
      "['1978', 'Pierre René Deligne', 'https://www.mathunion.org/imu-awards/fields-medal/fields-medals-1978']\n",
      "['1978', 'Charles Louis Fefferman', 'https://www.mathunion.org/imu-awards/fields-medal/fields-medals-1978']\n",
      "['1978', 'Gregori Alexandrovitch Margulis', 'https://www.mathunion.org/imu-awards/fields-medal/fields-medals-1978']\n",
      "['1978', 'Daniel G. Quillen', 'https://www.mathunion.org/imu-awards/fields-medal/fields-medals-1978']\n",
      "['1974', 'Enrico Bombieri', 'https://www.mathunion.org/imu-awards/fields-medal/fields-medals-1974']\n",
      "['1974', 'David Bryant Mumford', 'https://www.mathunion.org/imu-awards/fields-medal/fields-medals-1974']\n",
      "['1970', 'Alan Baker', 'https://www.mathunion.org/imu-awards/fields-medal/fields-medals-1970']\n",
      "['1970', 'Heisuke Hironaka', 'https://www.mathunion.org/imu-awards/fields-medal/fields-medals-1970']\n",
      "['1970', 'Serge Novikov', 'https://www.mathunion.org/imu-awards/fields-medal/fields-medals-1970']\n",
      "['1970', 'John Griggs Thompson', 'https://www.mathunion.org/imu-awards/fields-medal/fields-medals-1970']\n",
      "['1966', 'Michael Francis Atiyah', 'https://www.mathunion.org/imu-awards/fields-medal/fields-medals-1966']\n",
      "['1966', 'Paul Joseph Cohen', 'https://www.mathunion.org/imu-awards/fields-medal/fields-medals-1966']\n",
      "['1966', 'Alexander Grothendieck', 'https://www.mathunion.org/imu-awards/fields-medal/fields-medals-1966']\n",
      "['1966', 'Stephen Smale', 'https://www.mathunion.org/imu-awards/fields-medal/fields-medals-1966']\n",
      "['1962', 'Lars Hörmander', 'https://www.mathunion.org/imu-awards/fields-medal/fields-medals-1962']\n",
      "['1962', 'John Willard Milnor', 'https://www.mathunion.org/imu-awards/fields-medal/fields-medals-1962']\n",
      "['1958', 'Klaus Friedrich Roth', 'https://www.mathunion.org/imu-awards/fields-medal/fields-medals-1958']\n",
      "['1958', 'René Thom', 'https://www.mathunion.org/imu-awards/fields-medal/fields-medals-1958']\n",
      "['1954', 'Kunihiko Kodaira', 'https://www.mathunion.org/imu-awards/fields-medal/fields-medals-1954']\n",
      "['1954', 'Jean-Pierre Serre', 'https://www.mathunion.org/imu-awards/fields-medal/fields-medals-1954']\n",
      "['1950', 'Laurent Schwartz', 'https://www.mathunion.org/imu-awards/fields-medal/fields-medals-1950']\n",
      "['1950', 'Atle Selberg', 'https://www.mathunion.org/imu-awards/fields-medal/fields-medals-1950']\n",
      "['1936', 'Lars Valerian Ahlfors', 'https://www.mathunion.org/imu-awards/fields-medal/fields-medals-1936']\n",
      "['1936', 'Jesse Douglas', 'https://www.mathunion.org/imu-awards/fields-medal/fields-medals-1936']\n"
     ]
    }
   ],
   "source": [
    "# 设置头文件\n",
    "headers = {'user-agent': 'Mozilla/5.0 (X11; Linux x86_64) AppleWebKit/537.36 (KHTML, like Gecko) Chrome/110.0.0.0 Safari/537.36'}\n",
    "url = 'https://www.mathunion.org/imu-awards/fields-medal'\n",
    "\n",
    "def get_people(url):\n",
    "    data = pd.DataFrame(columns=['TIME', 'NAME', 'LINK'])\n",
    "    # 获取获奖人数据\n",
    "    html = requests.get(url, headers=headers, verify=False).text\n",
    "    soup = BeautifulSoup(html, 'html.parser')\n",
    "\n",
    "    # 获取存储学校数据的tr标签\n",
    "    divs = soup.find_all('div', class_='list__group')[:20]\n",
    "\n",
    "    for div in divs:\n",
    "        if isinstance(div, bs4.element.Tag):\n",
    "            # 获取企业数据及页面链接\n",
    "            TIME = div.h3.text\n",
    "            lis = div('li', class_='blue-link')\n",
    "            for li in lis:\n",
    "                NAME = li.a.text\n",
    "                LINK = li.a['href']\n",
    "                if LINK[0] == '/':\n",
    "                    LINK = 'https://www.mathunion.org' + LINK\n",
    "                value = [TIME, NAME, LINK]\n",
    "                data.loc[len(data.index)] = value\n",
    "                # 打印结果\n",
    "                print(value)\n",
    "    data.to_excel('MathUnion(temp).xlsx', index=False)\n",
    "    return data\n",
    "\n",
    "\n",
    "url = 'https://www.mathunion.org/imu-awards/fields-medal'\n",
    "data = get_people(url)"
   ]
  }
 ],
 "metadata": {
  "language_info": {
   "name": "python"
  }
 },
 "nbformat": 4,
 "nbformat_minor": 2
}
