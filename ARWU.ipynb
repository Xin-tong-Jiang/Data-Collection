{
 "cells": [
  {
   "cell_type": "markdown",
   "metadata": {},
   "source": [
    "#### ARWU\n",
    "\n",
    "SHANGHAI RANKING网站由javascript动态加载，需要使用自动化工具（如selenium）获取多页数据。"
   ]
  },
  {
   "cell_type": "code",
   "execution_count": null,
   "metadata": {},
   "outputs": [],
   "source": [
    "import bs4\n",
    "from bs4 import BeautifulSoup\n",
    "from lxml import etree\n",
    "import pandas as pd\n",
    "from selenium import webdriver\n",
    "from selenium.webdriver.common.by import By\n",
    "import time\n",
    "\n",
    "def get_arwu(url):\n",
    "    # 初始化浏览器自动化工具\n",
    "    driver = webdriver.Chrome()\n",
    "    # 获取页面\n",
    "    driver.get(url)\n",
    "    # 设置休眠时间\n",
    "    time.sleep(4)\n",
    "    \n",
    "    # 创建数据表存储结果\n",
    "    data = pd.DataFrame(columns=['World Rank', 'Institution', 'Country/Region', 'National/Regional Rank', 'Total Score'])\n",
    "    # 设置页面范围\n",
    "    page_num = 1\n",
    "\n",
    "    while True:\n",
    "        # 解析页面\n",
    "        soup = BeautifulSoup(driver.page_source, 'html.parser')\n",
    "        # 获取存储学校数据的tr标签\n",
    "        for tr in soup.find('tbody').children:\n",
    "            if isinstance(tr, bs4.element.Tag):\n",
    "                # 学校名称存储在标签<a>中，其余存储在各个td中\n",
    "                a, tds = tr('a'), tr('td')\n",
    "                # 将结果写入数据表\n",
    "                data.loc[len(data.index)] = [tds[0].text.strip(), a[0].string.strip(), tds[2].div.get('style')[50:-7], tds[3].text.strip(), tds[4].text.strip()]\n",
    "                # 打印结果\n",
    "                print(tds[0].text.strip(), a[0].string.strip(), tds[2].div.get('style')[50:-7], tds[3].text.strip(), tds[4].text.strip())\n",
    "        \n",
    "        # 获取翻页按钮\n",
    "        if page_num < 5:\n",
    "            next_page = driver.find_element(By.XPATH,'(//a[@class=\"ant-pagination-item-link\"])[3]') # 1-4页无“前5页”按钮\n",
    "        else:\n",
    "            next_page = driver.find_element(By.XPATH,'(//a[@class=\"ant-pagination-item-link\"])[4]')\n",
    "\n",
    "        page_num += 1\n",
    "        # top200大学在前7页\n",
    "        if next_page and page_num < 8:\n",
    "            # 模拟翻页\n",
    "            next_page.click()\n",
    "            # 设置休眠时间\n",
    "            time.sleep(2) \n",
    "        else:\n",
    "            break\n",
    "    # 将结果写入excel       \n",
    "    data.to_excel('ARWU.xlsx', index=False)"
   ]
  },
  {
   "cell_type": "code",
   "execution_count": null,
   "metadata": {},
   "outputs": [],
   "source": [
    "url = 'https://www.shanghairanking.com/rankings/arwu/2023'\n",
    "get_arwu(url)"
   ]
  }
 ],
 "metadata": {
  "language_info": {
   "name": "python"
  }
 },
 "nbformat": 4,
 "nbformat_minor": 2
}
